{
 "cells": [
  {
   "cell_type": "code",
   "execution_count": 1,
   "metadata": {},
   "outputs": [],
   "source": [
    "import os\n",
    "import pandas as pd\n",
    "import datetime\n",
    "import numpy as np\n",
    "import matplotlib.pyplot as plt\n",
    "import seaborn as sb"
   ]
  },
  {
   "cell_type": "code",
   "execution_count": 2,
   "metadata": {},
   "outputs": [
    {
     "data": {
      "text/html": [
       "<div>\n",
       "<style scoped>\n",
       "    .dataframe tbody tr th:only-of-type {\n",
       "        vertical-align: middle;\n",
       "    }\n",
       "\n",
       "    .dataframe tbody tr th {\n",
       "        vertical-align: top;\n",
       "    }\n",
       "\n",
       "    .dataframe thead th {\n",
       "        text-align: right;\n",
       "    }\n",
       "</style>\n",
       "<table border=\"1\" class=\"dataframe\">\n",
       "  <thead>\n",
       "    <tr style=\"text-align: right;\">\n",
       "      <th></th>\n",
       "      <th>Unnamed: 0</th>\n",
       "      <th>dt</th>\n",
       "      <th>weekday</th>\n",
       "      <th>year</th>\n",
       "      <th>id_driver</th>\n",
       "      <th>id_carrier_number</th>\n",
       "      <th>dim_carrier_type</th>\n",
       "      <th>dim_carrier_company_name</th>\n",
       "      <th>home_base_city</th>\n",
       "      <th>home_base_state</th>\n",
       "      <th>...</th>\n",
       "      <th>most_recent_load_date</th>\n",
       "      <th>load_day</th>\n",
       "      <th>loads</th>\n",
       "      <th>marketplace_loads_otr</th>\n",
       "      <th>marketplace_loads_atlas</th>\n",
       "      <th>marketplace_loads</th>\n",
       "      <th>brokerage_loads_otr</th>\n",
       "      <th>brokerage_loads_atlas</th>\n",
       "      <th>brokerage_loads</th>\n",
       "      <th>total_loads</th>\n",
       "    </tr>\n",
       "  </thead>\n",
       "  <tbody>\n",
       "    <tr>\n",
       "      <th>0</th>\n",
       "      <td>0</td>\n",
       "      <td>2019-12-16</td>\n",
       "      <td>Monday</td>\n",
       "      <td>2019</td>\n",
       "      <td>21350</td>\n",
       "      <td>U0109015</td>\n",
       "      <td>Owner Operator</td>\n",
       "      <td>CA&amp;F TRUCKING</td>\n",
       "      <td>Maywood</td>\n",
       "      <td>CA</td>\n",
       "      <td>...</td>\n",
       "      <td>2021-02-17</td>\n",
       "      <td>2019-12-16</td>\n",
       "      <td>2</td>\n",
       "      <td>0</td>\n",
       "      <td>438</td>\n",
       "      <td>438</td>\n",
       "      <td>0</td>\n",
       "      <td>45</td>\n",
       "      <td>45</td>\n",
       "      <td>483</td>\n",
       "    </tr>\n",
       "    <tr>\n",
       "      <th>1</th>\n",
       "      <td>1</td>\n",
       "      <td>2021-01-15</td>\n",
       "      <td>Friday</td>\n",
       "      <td>2021</td>\n",
       "      <td>36437</td>\n",
       "      <td>C0097727</td>\n",
       "      <td>Fleet</td>\n",
       "      <td>New opportunities inc</td>\n",
       "      <td>Los Angeles</td>\n",
       "      <td>CA</td>\n",
       "      <td>...</td>\n",
       "      <td>2021-02-03</td>\n",
       "      <td>2021-01-15</td>\n",
       "      <td>1</td>\n",
       "      <td>2</td>\n",
       "      <td>72</td>\n",
       "      <td>74</td>\n",
       "      <td>0</td>\n",
       "      <td>1</td>\n",
       "      <td>1</td>\n",
       "      <td>75</td>\n",
       "    </tr>\n",
       "    <tr>\n",
       "      <th>2</th>\n",
       "      <td>2</td>\n",
       "      <td>2019-12-26</td>\n",
       "      <td>Thursday</td>\n",
       "      <td>2019</td>\n",
       "      <td>19323</td>\n",
       "      <td>U0107081</td>\n",
       "      <td>Owner Operator</td>\n",
       "      <td>RAS</td>\n",
       "      <td>Compton</td>\n",
       "      <td>CA</td>\n",
       "      <td>...</td>\n",
       "      <td>2020-09-25</td>\n",
       "      <td>2019-12-26</td>\n",
       "      <td>1</td>\n",
       "      <td>0</td>\n",
       "      <td>180</td>\n",
       "      <td>180</td>\n",
       "      <td>0</td>\n",
       "      <td>2</td>\n",
       "      <td>2</td>\n",
       "      <td>182</td>\n",
       "    </tr>\n",
       "    <tr>\n",
       "      <th>3</th>\n",
       "      <td>3</td>\n",
       "      <td>2021-02-10</td>\n",
       "      <td>Wednesday</td>\n",
       "      <td>2021</td>\n",
       "      <td>34809</td>\n",
       "      <td>C0094651</td>\n",
       "      <td>Fleet</td>\n",
       "      <td>NFS asset Drayage</td>\n",
       "      <td>Lynwood</td>\n",
       "      <td>CA</td>\n",
       "      <td>...</td>\n",
       "      <td>2021-02-17</td>\n",
       "      <td>2021-02-10</td>\n",
       "      <td>3</td>\n",
       "      <td>0</td>\n",
       "      <td>0</td>\n",
       "      <td>0</td>\n",
       "      <td>0</td>\n",
       "      <td>0</td>\n",
       "      <td>0</td>\n",
       "      <td>62</td>\n",
       "    </tr>\n",
       "    <tr>\n",
       "      <th>4</th>\n",
       "      <td>4</td>\n",
       "      <td>2017-07-24</td>\n",
       "      <td>Monday</td>\n",
       "      <td>2017</td>\n",
       "      <td>4728</td>\n",
       "      <td>U0094376</td>\n",
       "      <td>Owner Operator</td>\n",
       "      <td>joes transportation</td>\n",
       "      <td>Norco</td>\n",
       "      <td>CA</td>\n",
       "      <td>...</td>\n",
       "      <td>2017-10-11</td>\n",
       "      <td>2017-07-24</td>\n",
       "      <td>2</td>\n",
       "      <td>57</td>\n",
       "      <td>0</td>\n",
       "      <td>57</td>\n",
       "      <td>314</td>\n",
       "      <td>0</td>\n",
       "      <td>314</td>\n",
       "      <td>371</td>\n",
       "    </tr>\n",
       "  </tbody>\n",
       "</table>\n",
       "<p>5 rows × 31 columns</p>\n",
       "</div>"
      ],
      "text/plain": [
       "   Unnamed: 0          dt    weekday  year  id_driver id_carrier_number  \\\n",
       "0           0  2019-12-16     Monday  2019      21350          U0109015   \n",
       "1           1  2021-01-15     Friday  2021      36437          C0097727   \n",
       "2           2  2019-12-26   Thursday  2019      19323          U0107081   \n",
       "3           3  2021-02-10  Wednesday  2021      34809          C0094651   \n",
       "4           4  2017-07-24     Monday  2017       4728          U0094376   \n",
       "\n",
       "  dim_carrier_type dim_carrier_company_name home_base_city home_base_state  \\\n",
       "0   Owner Operator            CA&F TRUCKING        Maywood              CA   \n",
       "1            Fleet   New opportunities inc     Los Angeles              CA   \n",
       "2   Owner Operator                      RAS        Compton              CA   \n",
       "3            Fleet        NFS asset Drayage        Lynwood              CA   \n",
       "4   Owner Operator      joes transportation          Norco              CA   \n",
       "\n",
       "   ... most_recent_load_date    load_day loads marketplace_loads_otr  \\\n",
       "0  ...            2021-02-17  2019-12-16     2                     0   \n",
       "1  ...            2021-02-03  2021-01-15     1                     2   \n",
       "2  ...            2020-09-25  2019-12-26     1                     0   \n",
       "3  ...            2021-02-17  2021-02-10     3                     0   \n",
       "4  ...            2017-10-11  2017-07-24     2                    57   \n",
       "\n",
       "  marketplace_loads_atlas marketplace_loads brokerage_loads_otr  \\\n",
       "0                     438               438                   0   \n",
       "1                      72                74                   0   \n",
       "2                     180               180                   0   \n",
       "3                       0                 0                   0   \n",
       "4                       0                57                 314   \n",
       "\n",
       "   brokerage_loads_atlas brokerage_loads total_loads  \n",
       "0                     45              45         483  \n",
       "1                      1               1          75  \n",
       "2                      2               2         182  \n",
       "3                      0               0          62  \n",
       "4                      0             314         371  \n",
       "\n",
       "[5 rows x 31 columns]"
      ]
     },
     "execution_count": 2,
     "metadata": {},
     "output_type": "execute_result"
    }
   ],
   "source": [
    "# Updated to newest dataset\n",
    "DATASET_PATH = os.path.join(\".\", \"training_dataset_V3.csv\")\n",
    "data = pd.read_csv(DATASET_PATH)\n",
    "data.head()"
   ]
  },
  {
   "cell_type": "code",
   "execution_count": 3,
   "metadata": {},
   "outputs": [
    {
     "data": {
      "text/plain": [
       "'\\n# data V2\\nOLDDATASET_PATH = os.path.join(\".\", \"training_data_cleaned.csv\")\\nolddata = pd.read_csv(OLDDATASET_PATH)\\nolddata.head()\\n'"
      ]
     },
     "execution_count": 3,
     "metadata": {},
     "output_type": "execute_result"
    }
   ],
   "source": [
    "'''\n",
    "# data V2\n",
    "OLDDATASET_PATH = os.path.join(\".\", \"training_data_cleaned.csv\")\n",
    "olddata = pd.read_csv(OLDDATASET_PATH)\n",
    "olddata.head()\n",
    "'''"
   ]
  },
  {
   "cell_type": "code",
   "execution_count": 4,
   "metadata": {},
   "outputs": [],
   "source": [
    "# drop unnecessary columns\n",
    "data = data.drop('Unnamed: 0', axis=1)"
   ]
  },
  {
   "cell_type": "code",
   "execution_count": 5,
   "metadata": {},
   "outputs": [],
   "source": [
    "# aggregate columns based on driver ID and keep only most recent entry\n",
    "data = data.groupby('id_driver').apply(lambda x: x[x['dt'] == x['dt'].max()])"
   ]
  },
  {
   "cell_type": "markdown",
   "metadata": {},
   "source": [
    "## Part 1"
   ]
  },
  {
   "cell_type": "code",
   "execution_count": 6,
   "metadata": {},
   "outputs": [],
   "source": [
    "# we convert the column 'most_recent_load_date' into datetime objects in order to calculate the 75th percentile \n",
    "most_recent_load_date_datetime = [datetime.datetime.strptime(x, '%Y-%m-%d') for x in data['most_recent_load_date']]\n",
    "data['most_recent_load_date'] = most_recent_load_date_datetime"
   ]
  },
  {
   "cell_type": "code",
   "execution_count": 7,
   "metadata": {},
   "outputs": [],
   "source": [
    "# generate labels based on 75th percentile of 'total_loads' and 'most_recent_load_date'\n",
    "\n",
    "labels = []\n",
    "\n",
    "cutoff_date = data['most_recent_load_date'].quantile(0.75)\n",
    "\n",
    "cutoff_loads = data['total_loads'].quantile(0.75)\n",
    "\n",
    "for index, row in data.iterrows():\n",
    "    if(row['total_loads'] >= cutoff_loads and row['most_recent_load_date'] >= cutoff_date):\n",
    "        labels.append(1)\n",
    "    else:\n",
    "        labels.append(0)\n",
    "        \n",
    "data['label'] = labels"
   ]
  },
  {
   "cell_type": "code",
   "execution_count": 8,
   "metadata": {},
   "outputs": [
    {
     "data": {
      "text/plain": [
       "0    4587\n",
       "1     707\n",
       "Name: label, dtype: int64"
      ]
     },
     "execution_count": 8,
     "metadata": {},
     "output_type": "execute_result"
    }
   ],
   "source": [
    "data['label'].value_counts()"
   ]
  },
  {
   "cell_type": "markdown",
   "metadata": {},
   "source": [
    "## Part 2"
   ]
  },
  {
   "cell_type": "code",
   "execution_count": 9,
   "metadata": {},
   "outputs": [],
   "source": [
    "data = data.drop(['total_loads', 'most_recent_load_date'], axis=1)"
   ]
  },
  {
   "cell_type": "markdown",
   "metadata": {},
   "source": [
    "## Part 3"
   ]
  },
  {
   "cell_type": "code",
   "execution_count": 11,
   "metadata": {},
   "outputs": [
    {
     "data": {
      "text/html": [
       "<div>\n",
       "<style scoped>\n",
       "    .dataframe tbody tr th:only-of-type {\n",
       "        vertical-align: middle;\n",
       "    }\n",
       "\n",
       "    .dataframe tbody tr th {\n",
       "        vertical-align: top;\n",
       "    }\n",
       "\n",
       "    .dataframe thead th {\n",
       "        text-align: right;\n",
       "    }\n",
       "</style>\n",
       "<table border=\"1\" class=\"dataframe\">\n",
       "  <thead>\n",
       "    <tr style=\"text-align: right;\">\n",
       "      <th></th>\n",
       "      <th>dt</th>\n",
       "      <th>weekday</th>\n",
       "      <th>year</th>\n",
       "      <th>id_driver</th>\n",
       "      <th>id_carrier_number</th>\n",
       "      <th>dim_carrier_type</th>\n",
       "      <th>dim_carrier_company_name</th>\n",
       "      <th>home_base_city</th>\n",
       "      <th>home_base_state</th>\n",
       "      <th>carrier_trucks</th>\n",
       "      <th>...</th>\n",
       "      <th>first_load_date</th>\n",
       "      <th>load_day</th>\n",
       "      <th>loads</th>\n",
       "      <th>marketplace_loads_otr</th>\n",
       "      <th>marketplace_loads_atlas</th>\n",
       "      <th>marketplace_loads</th>\n",
       "      <th>brokerage_loads_otr</th>\n",
       "      <th>brokerage_loads_atlas</th>\n",
       "      <th>brokerage_loads</th>\n",
       "      <th>label</th>\n",
       "    </tr>\n",
       "  </thead>\n",
       "  <tbody>\n",
       "    <tr>\n",
       "      <th>count</th>\n",
       "      <td>5294</td>\n",
       "      <td>5294</td>\n",
       "      <td>5294.000000</td>\n",
       "      <td>5294.000000</td>\n",
       "      <td>5294</td>\n",
       "      <td>5294</td>\n",
       "      <td>5287</td>\n",
       "      <td>5282</td>\n",
       "      <td>5282</td>\n",
       "      <td>5294</td>\n",
       "      <td>...</td>\n",
       "      <td>5294</td>\n",
       "      <td>5294</td>\n",
       "      <td>5294.000000</td>\n",
       "      <td>5294.000000</td>\n",
       "      <td>5294.000000</td>\n",
       "      <td>5294.000000</td>\n",
       "      <td>5294.000000</td>\n",
       "      <td>5294.000000</td>\n",
       "      <td>5294.000000</td>\n",
       "      <td>5294.000000</td>\n",
       "    </tr>\n",
       "    <tr>\n",
       "      <th>unique</th>\n",
       "      <td>1418</td>\n",
       "      <td>7</td>\n",
       "      <td>NaN</td>\n",
       "      <td>NaN</td>\n",
       "      <td>2573</td>\n",
       "      <td>2</td>\n",
       "      <td>2491</td>\n",
       "      <td>520</td>\n",
       "      <td>40</td>\n",
       "      <td>16</td>\n",
       "      <td>...</td>\n",
       "      <td>1458</td>\n",
       "      <td>1418</td>\n",
       "      <td>NaN</td>\n",
       "      <td>NaN</td>\n",
       "      <td>NaN</td>\n",
       "      <td>NaN</td>\n",
       "      <td>NaN</td>\n",
       "      <td>NaN</td>\n",
       "      <td>NaN</td>\n",
       "      <td>NaN</td>\n",
       "    </tr>\n",
       "    <tr>\n",
       "      <th>top</th>\n",
       "      <td>2021-02-17</td>\n",
       "      <td>Wednesday</td>\n",
       "      <td>NaN</td>\n",
       "      <td>NaN</td>\n",
       "      <td>C0094651</td>\n",
       "      <td>Fleet</td>\n",
       "      <td>NFS asset Drayage</td>\n",
       "      <td>Los Angeles</td>\n",
       "      <td>CA</td>\n",
       "      <td>[\"dryvan\"]</td>\n",
       "      <td>...</td>\n",
       "      <td>2020-06-12</td>\n",
       "      <td>2021-02-17</td>\n",
       "      <td>NaN</td>\n",
       "      <td>NaN</td>\n",
       "      <td>NaN</td>\n",
       "      <td>NaN</td>\n",
       "      <td>NaN</td>\n",
       "      <td>NaN</td>\n",
       "      <td>NaN</td>\n",
       "      <td>NaN</td>\n",
       "    </tr>\n",
       "    <tr>\n",
       "      <th>freq</th>\n",
       "      <td>161</td>\n",
       "      <td>1008</td>\n",
       "      <td>NaN</td>\n",
       "      <td>NaN</td>\n",
       "      <td>217</td>\n",
       "      <td>4090</td>\n",
       "      <td>217</td>\n",
       "      <td>922</td>\n",
       "      <td>4592</td>\n",
       "      <td>3166</td>\n",
       "      <td>...</td>\n",
       "      <td>23</td>\n",
       "      <td>161</td>\n",
       "      <td>NaN</td>\n",
       "      <td>NaN</td>\n",
       "      <td>NaN</td>\n",
       "      <td>NaN</td>\n",
       "      <td>NaN</td>\n",
       "      <td>NaN</td>\n",
       "      <td>NaN</td>\n",
       "      <td>NaN</td>\n",
       "    </tr>\n",
       "    <tr>\n",
       "      <th>mean</th>\n",
       "      <td>NaN</td>\n",
       "      <td>NaN</td>\n",
       "      <td>2018.712883</td>\n",
       "      <td>17725.917643</td>\n",
       "      <td>NaN</td>\n",
       "      <td>NaN</td>\n",
       "      <td>NaN</td>\n",
       "      <td>NaN</td>\n",
       "      <td>NaN</td>\n",
       "      <td>NaN</td>\n",
       "      <td>...</td>\n",
       "      <td>NaN</td>\n",
       "      <td>NaN</td>\n",
       "      <td>1.266528</td>\n",
       "      <td>4.721572</td>\n",
       "      <td>9.240461</td>\n",
       "      <td>13.962032</td>\n",
       "      <td>15.128636</td>\n",
       "      <td>2.382509</td>\n",
       "      <td>17.511145</td>\n",
       "      <td>0.133547</td>\n",
       "    </tr>\n",
       "    <tr>\n",
       "      <th>std</th>\n",
       "      <td>NaN</td>\n",
       "      <td>NaN</td>\n",
       "      <td>1.435007</td>\n",
       "      <td>11626.759150</td>\n",
       "      <td>NaN</td>\n",
       "      <td>NaN</td>\n",
       "      <td>NaN</td>\n",
       "      <td>NaN</td>\n",
       "      <td>NaN</td>\n",
       "      <td>NaN</td>\n",
       "      <td>...</td>\n",
       "      <td>NaN</td>\n",
       "      <td>NaN</td>\n",
       "      <td>0.977059</td>\n",
       "      <td>20.700849</td>\n",
       "      <td>59.859671</td>\n",
       "      <td>64.941889</td>\n",
       "      <td>99.392557</td>\n",
       "      <td>17.737119</td>\n",
       "      <td>100.756506</td>\n",
       "      <td>0.340198</td>\n",
       "    </tr>\n",
       "    <tr>\n",
       "      <th>min</th>\n",
       "      <td>NaN</td>\n",
       "      <td>NaN</td>\n",
       "      <td>2015.000000</td>\n",
       "      <td>20.000000</td>\n",
       "      <td>NaN</td>\n",
       "      <td>NaN</td>\n",
       "      <td>NaN</td>\n",
       "      <td>NaN</td>\n",
       "      <td>NaN</td>\n",
       "      <td>NaN</td>\n",
       "      <td>...</td>\n",
       "      <td>NaN</td>\n",
       "      <td>NaN</td>\n",
       "      <td>1.000000</td>\n",
       "      <td>0.000000</td>\n",
       "      <td>0.000000</td>\n",
       "      <td>0.000000</td>\n",
       "      <td>0.000000</td>\n",
       "      <td>0.000000</td>\n",
       "      <td>0.000000</td>\n",
       "      <td>0.000000</td>\n",
       "    </tr>\n",
       "    <tr>\n",
       "      <th>25%</th>\n",
       "      <td>NaN</td>\n",
       "      <td>NaN</td>\n",
       "      <td>2018.000000</td>\n",
       "      <td>8049.250000</td>\n",
       "      <td>NaN</td>\n",
       "      <td>NaN</td>\n",
       "      <td>NaN</td>\n",
       "      <td>NaN</td>\n",
       "      <td>NaN</td>\n",
       "      <td>NaN</td>\n",
       "      <td>...</td>\n",
       "      <td>NaN</td>\n",
       "      <td>NaN</td>\n",
       "      <td>1.000000</td>\n",
       "      <td>0.000000</td>\n",
       "      <td>0.000000</td>\n",
       "      <td>0.000000</td>\n",
       "      <td>0.000000</td>\n",
       "      <td>0.000000</td>\n",
       "      <td>0.000000</td>\n",
       "      <td>0.000000</td>\n",
       "    </tr>\n",
       "    <tr>\n",
       "      <th>50%</th>\n",
       "      <td>NaN</td>\n",
       "      <td>NaN</td>\n",
       "      <td>2019.000000</td>\n",
       "      <td>15214.500000</td>\n",
       "      <td>NaN</td>\n",
       "      <td>NaN</td>\n",
       "      <td>NaN</td>\n",
       "      <td>NaN</td>\n",
       "      <td>NaN</td>\n",
       "      <td>NaN</td>\n",
       "      <td>...</td>\n",
       "      <td>NaN</td>\n",
       "      <td>NaN</td>\n",
       "      <td>1.000000</td>\n",
       "      <td>1.000000</td>\n",
       "      <td>0.000000</td>\n",
       "      <td>1.000000</td>\n",
       "      <td>1.000000</td>\n",
       "      <td>0.000000</td>\n",
       "      <td>1.000000</td>\n",
       "      <td>0.000000</td>\n",
       "    </tr>\n",
       "    <tr>\n",
       "      <th>75%</th>\n",
       "      <td>NaN</td>\n",
       "      <td>NaN</td>\n",
       "      <td>2020.000000</td>\n",
       "      <td>29289.000000</td>\n",
       "      <td>NaN</td>\n",
       "      <td>NaN</td>\n",
       "      <td>NaN</td>\n",
       "      <td>NaN</td>\n",
       "      <td>NaN</td>\n",
       "      <td>NaN</td>\n",
       "      <td>...</td>\n",
       "      <td>NaN</td>\n",
       "      <td>NaN</td>\n",
       "      <td>1.000000</td>\n",
       "      <td>2.000000</td>\n",
       "      <td>0.000000</td>\n",
       "      <td>4.000000</td>\n",
       "      <td>4.000000</td>\n",
       "      <td>0.000000</td>\n",
       "      <td>5.000000</td>\n",
       "      <td>0.000000</td>\n",
       "    </tr>\n",
       "    <tr>\n",
       "      <th>max</th>\n",
       "      <td>NaN</td>\n",
       "      <td>NaN</td>\n",
       "      <td>2021.000000</td>\n",
       "      <td>38125.000000</td>\n",
       "      <td>NaN</td>\n",
       "      <td>NaN</td>\n",
       "      <td>NaN</td>\n",
       "      <td>NaN</td>\n",
       "      <td>NaN</td>\n",
       "      <td>NaN</td>\n",
       "      <td>...</td>\n",
       "      <td>NaN</td>\n",
       "      <td>NaN</td>\n",
       "      <td>26.000000</td>\n",
       "      <td>902.000000</td>\n",
       "      <td>1324.000000</td>\n",
       "      <td>1348.000000</td>\n",
       "      <td>4266.000000</td>\n",
       "      <td>371.000000</td>\n",
       "      <td>4266.000000</td>\n",
       "      <td>1.000000</td>\n",
       "    </tr>\n",
       "  </tbody>\n",
       "</table>\n",
       "<p>11 rows × 29 columns</p>\n",
       "</div>"
      ],
      "text/plain": [
       "                dt    weekday         year     id_driver id_carrier_number  \\\n",
       "count         5294       5294  5294.000000   5294.000000              5294   \n",
       "unique        1418          7          NaN           NaN              2573   \n",
       "top     2021-02-17  Wednesday          NaN           NaN          C0094651   \n",
       "freq           161       1008          NaN           NaN               217   \n",
       "mean           NaN        NaN  2018.712883  17725.917643               NaN   \n",
       "std            NaN        NaN     1.435007  11626.759150               NaN   \n",
       "min            NaN        NaN  2015.000000     20.000000               NaN   \n",
       "25%            NaN        NaN  2018.000000   8049.250000               NaN   \n",
       "50%            NaN        NaN  2019.000000  15214.500000               NaN   \n",
       "75%            NaN        NaN  2020.000000  29289.000000               NaN   \n",
       "max            NaN        NaN  2021.000000  38125.000000               NaN   \n",
       "\n",
       "       dim_carrier_type dim_carrier_company_name home_base_city  \\\n",
       "count              5294                     5287           5282   \n",
       "unique                2                     2491            520   \n",
       "top               Fleet        NFS asset Drayage    Los Angeles   \n",
       "freq               4090                      217            922   \n",
       "mean                NaN                      NaN            NaN   \n",
       "std                 NaN                      NaN            NaN   \n",
       "min                 NaN                      NaN            NaN   \n",
       "25%                 NaN                      NaN            NaN   \n",
       "50%                 NaN                      NaN            NaN   \n",
       "75%                 NaN                      NaN            NaN   \n",
       "max                 NaN                      NaN            NaN   \n",
       "\n",
       "       home_base_state carrier_trucks  ...  first_load_date    load_day  \\\n",
       "count             5282           5294  ...             5294        5294   \n",
       "unique              40             16  ...             1458        1418   \n",
       "top                 CA     [\"dryvan\"]  ...       2020-06-12  2021-02-17   \n",
       "freq              4592           3166  ...               23         161   \n",
       "mean               NaN            NaN  ...              NaN         NaN   \n",
       "std                NaN            NaN  ...              NaN         NaN   \n",
       "min                NaN            NaN  ...              NaN         NaN   \n",
       "25%                NaN            NaN  ...              NaN         NaN   \n",
       "50%                NaN            NaN  ...              NaN         NaN   \n",
       "75%                NaN            NaN  ...              NaN         NaN   \n",
       "max                NaN            NaN  ...              NaN         NaN   \n",
       "\n",
       "              loads marketplace_loads_otr marketplace_loads_atlas  \\\n",
       "count   5294.000000           5294.000000             5294.000000   \n",
       "unique          NaN                   NaN                     NaN   \n",
       "top             NaN                   NaN                     NaN   \n",
       "freq            NaN                   NaN                     NaN   \n",
       "mean       1.266528              4.721572                9.240461   \n",
       "std        0.977059             20.700849               59.859671   \n",
       "min        1.000000              0.000000                0.000000   \n",
       "25%        1.000000              0.000000                0.000000   \n",
       "50%        1.000000              1.000000                0.000000   \n",
       "75%        1.000000              2.000000                0.000000   \n",
       "max       26.000000            902.000000             1324.000000   \n",
       "\n",
       "       marketplace_loads  brokerage_loads_otr brokerage_loads_atlas  \\\n",
       "count        5294.000000          5294.000000           5294.000000   \n",
       "unique               NaN                  NaN                   NaN   \n",
       "top                  NaN                  NaN                   NaN   \n",
       "freq                 NaN                  NaN                   NaN   \n",
       "mean           13.962032            15.128636              2.382509   \n",
       "std            64.941889            99.392557             17.737119   \n",
       "min             0.000000             0.000000              0.000000   \n",
       "25%             0.000000             0.000000              0.000000   \n",
       "50%             1.000000             1.000000              0.000000   \n",
       "75%             4.000000             4.000000              0.000000   \n",
       "max          1348.000000          4266.000000            371.000000   \n",
       "\n",
       "       brokerage_loads        label  \n",
       "count      5294.000000  5294.000000  \n",
       "unique             NaN          NaN  \n",
       "top                NaN          NaN  \n",
       "freq               NaN          NaN  \n",
       "mean         17.511145     0.133547  \n",
       "std         100.756506     0.340198  \n",
       "min           0.000000     0.000000  \n",
       "25%           0.000000     0.000000  \n",
       "50%           1.000000     0.000000  \n",
       "75%           5.000000     0.000000  \n",
       "max        4266.000000     1.000000  \n",
       "\n",
       "[11 rows x 29 columns]"
      ]
     },
     "execution_count": 11,
     "metadata": {},
     "output_type": "execute_result"
    }
   ],
   "source": [
    "data.describe(include='all')"
   ]
  },
  {
   "cell_type": "code",
   "execution_count": 12,
   "metadata": {},
   "outputs": [
    {
     "name": "stdout",
     "output_type": "stream",
     "text": [
      "<class 'pandas.core.frame.DataFrame'>\n",
      "MultiIndex: 5294 entries, (20, 79771) to (38125, 4096)\n",
      "Data columns (total 29 columns):\n",
      " #   Column                    Non-Null Count  Dtype  \n",
      "---  ------                    --------------  -----  \n",
      " 0   dt                        5294 non-null   object \n",
      " 1   weekday                   5294 non-null   object \n",
      " 2   year                      5294 non-null   int64  \n",
      " 3   id_driver                 5294 non-null   int64  \n",
      " 4   id_carrier_number         5294 non-null   object \n",
      " 5   dim_carrier_type          5294 non-null   object \n",
      " 6   dim_carrier_company_name  5287 non-null   object \n",
      " 7   home_base_city            5282 non-null   object \n",
      " 8   home_base_state           5282 non-null   object \n",
      " 9   carrier_trucks            5294 non-null   object \n",
      " 10  num_trucks                5252 non-null   float64\n",
      " 11  interested_in_drayage     5294 non-null   object \n",
      " 12  port_qualified            5294 non-null   object \n",
      " 13  signup_source             5294 non-null   object \n",
      " 14  ts_signup                 5294 non-null   object \n",
      " 15  ts_first_approved         3962 non-null   object \n",
      " 16  days_signup_to_approval   3962 non-null   float64\n",
      " 17  driver_with_twic          5294 non-null   object \n",
      " 18  dim_preferred_lanes       194 non-null    object \n",
      " 19  first_load_date           5294 non-null   object \n",
      " 20  load_day                  5294 non-null   object \n",
      " 21  loads                     5294 non-null   int64  \n",
      " 22  marketplace_loads_otr     5294 non-null   int64  \n",
      " 23  marketplace_loads_atlas   5294 non-null   int64  \n",
      " 24  marketplace_loads         5294 non-null   int64  \n",
      " 25  brokerage_loads_otr       5294 non-null   int64  \n",
      " 26  brokerage_loads_atlas     5294 non-null   int64  \n",
      " 27  brokerage_loads           5294 non-null   int64  \n",
      " 28  label                     5294 non-null   int64  \n",
      "dtypes: float64(2), int64(10), object(17)\n",
      "memory usage: 1.4+ MB\n"
     ]
    }
   ],
   "source": [
    "data.info()"
   ]
  },
  {
   "cell_type": "markdown",
   "metadata": {},
   "source": [
    "### Findings:\n",
    "About 25% of the data is missing in features ts_first_approved and days_signup_to_approval, and there is very little data available for the dim_preferred_lanes feature.\n"
   ]
  },
  {
   "cell_type": "code",
   "execution_count": 13,
   "metadata": {},
   "outputs": [
    {
     "data": {
      "image/png": "[encoded data removed]",
      "text/plain": [
       "<Figure size 1440x1080 with 12 Axes>"
      ]
     },
     "metadata": {
      "needs_background": "light"
     },
     "output_type": "display_data"
    }
   ],
   "source": [
    "#int/float valued features\n",
    "data.hist(bins=50, figsize=(20,15))\n",
    "plt.show()"
   ]
  },
  {
   "cell_type": "code",
   "execution_count": 14,
   "metadata": {},
   "outputs": [
    {
     "data": {
      "image/png": "[encoded data removed]",
      "text/plain": [
       "<Figure size 360x180 with 1 Axes>"
      ]
     },
     "metadata": {
      "needs_background": "light"
     },
     "output_type": "display_data"
    }
   ],
   "source": [
    "#some other plottable categorical features\n",
    "data['dim_carrier_type'].hist(bins=10, figsize=(5,2.5))\n",
    "plt.show()"
   ]
  },
  {
   "cell_type": "code",
   "execution_count": 15,
   "metadata": {},
   "outputs": [
    {
     "data": {
      "image/png": "[encoded data removed]",
      "text/plain": [
       "<Figure size 720x180 with 1 Axes>"
      ]
     },
     "metadata": {
      "needs_background": "light"
     },
     "output_type": "display_data"
    }
   ],
   "source": [
    "data['weekday'].hist(bins=50, figsize=(10,2.5))\n",
    "plt.show()"
   ]
  },
  {
   "cell_type": "code",
   "execution_count": 16,
   "metadata": {},
   "outputs": [
    {
     "data": {
      "image/png": "[encoded data removed]",
      "text/plain": [
       "<Figure size 1440x360 with 1 Axes>"
      ]
     },
     "metadata": {
      "needs_background": "light"
     },
     "output_type": "display_data"
    }
   ],
   "source": [
    "data['home_base_state'].hist(bins=50, figsize=(20,5))\n",
    "plt.show()"
   ]
  },
  {
   "cell_type": "markdown",
   "metadata": {},
   "source": [
    "### Findings:\n",
    "\n",
    "We note that most real valued data are highly concentrated in smaller-valued regions with long tails to the right. Year is the only feature that seems more normally distributed. For categorical features, we note that operations are mostly done on work days, and are mostly based in California."
   ]
  },
  {
   "cell_type": "code",
   "execution_count": 17,
   "metadata": {},
   "outputs": [
    {
     "data": {
      "text/plain": [
       "label                      1.000000\n",
       "year                       0.534059\n",
       "marketplace_loads          0.400645\n",
       "marketplace_loads_atlas    0.361230\n",
       "id_driver                  0.345887\n",
       "brokerage_loads_atlas      0.327677\n",
       "loads                      0.257802\n",
       "num_trucks                 0.244607\n",
       "marketplace_loads_otr      0.212335\n",
       "brokerage_loads            0.182466\n",
       "brokerage_loads_otr        0.126494\n",
       "days_signup_to_approval   -0.221869\n",
       "Name: label, dtype: float64"
      ]
     },
     "execution_count": 17,
     "metadata": {},
     "output_type": "execute_result"
    }
   ],
   "source": [
    "corr_matrix = data.corr() \n",
    "corr_matrix['label'].sort_values(ascending=False)"
   ]
  },
  {
   "cell_type": "code",
   "execution_count": 18,
   "metadata": {},
   "outputs": [
    {
     "data": {
      "text/plain": [
       "<AxesSubplot:>"
      ]
     },
     "execution_count": 18,
     "metadata": {},
     "output_type": "execute_result"
    },
    {
     "data": {
      "image/png": "[encoded data removed]",
      "text/plain": [
       "<Figure size 864x720 with 2 Axes>"
      ]
     },
     "metadata": {
      "needs_background": "light"
     },
     "output_type": "display_data"
    }
   ],
   "source": [
    "#credit: https://towardsdatascience.com/heatmap-basics-with-pythons-seaborn-fb92ea280a6c\n",
    "fig, ax = plt.subplots(figsize=(12, 10))\n",
    "# mask\n",
    "mask = np.triu(np.ones_like(corr_matrix, dtype=np.bool)) \n",
    "# adjust mask and df\n",
    "mask = mask[1:, :-1]\n",
    "corr = corr_matrix.iloc[1:,:-1].copy()\n",
    "# color map\n",
    "cmap = sb.diverging_palette(0, 240, 90, 60, as_cmap=True) \n",
    "# plot heatmap\n",
    "sb.heatmap(corr, mask=mask, annot=True, fmt=\".2f\",\n",
    "linewidths=5, cmap=cmap, vmin=-1, vmax=1, cbar_kws={\"shrink\": .8}, square=True)"
   ]
  },
  {
   "cell_type": "markdown",
   "metadata": {},
   "source": [
    "### Findings:\n",
    "\n",
    "- Label is most positively correlated to year, followed by marketplace_loads and marketplace_loads_atlas. In general, it has a positive correlation with all features except days_signup_to_approval.\n",
    "- marketplace_loads is highly correlated with marketplace_loads_atlas; same thing between brokerage_loads and brokerage_loads_otr.\n",
    "- id_driver is noticeably (positively) correlated with year; days_signup_to_approval is noticeably (negatively) correlated with year and id_driver."
   ]
  },
  {
   "cell_type": "markdown",
   "metadata": {},
   "source": [
    "## Part 4"
   ]
  },
  {
   "cell_type": "markdown",
   "metadata": {},
   "source": [
    "Ideas for feature extraction:\n",
    "- many null values in dim_preferred_lanes: change it to a binary variable indicating whether a perferred lane was specified (differentiate between drivers that did and didn't specify)\n",
    "\n",
    "Features not needed:\n",
    "- ts_signup and ts_first_approved: the period between signup and app"
   ]
  }
 ],
 "metadata": {
  "kernelspec": {
   "display_name": "Python 3",
   "language": "python",
   "name": "python3"
  },
  "language_info": {
   "codemirror_mode": {
    "name": "ipython",
    "version": 3
   },
   "file_extension": ".py",
   "mimetype": "text/x-python",
   "name": "python",
   "nbconvert_exporter": "python",
   "pygments_lexer": "ipython3",
   "version": "3.8.5"
  }
 },
 "nbformat": 4,
 "nbformat_minor": 4
}
